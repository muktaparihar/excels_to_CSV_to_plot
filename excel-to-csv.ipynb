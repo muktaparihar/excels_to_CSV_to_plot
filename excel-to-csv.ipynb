import pandas as pd

#This program converts excel to csv and multiple tabs are converted to separeate csv.
xlsx = pd.ExcelFile ("P_UXYU19012_Ali11_updated.xlsx")       # do the change to incorporate in mupliple files within same folder
for sheet in xlsx.sheet_names:
    df = xlsx.parse(sheet)
    df.to_csv(sheet+".csv", index = False)
